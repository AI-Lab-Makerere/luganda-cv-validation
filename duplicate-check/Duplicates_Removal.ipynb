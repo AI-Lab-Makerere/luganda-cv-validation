{
 "cells": [
  {
   "cell_type": "code",
   "execution_count": 1,
   "metadata": {},
   "outputs": [
    {
     "name": "stdout",
     "output_type": "stream",
     "text": [
      "Collecting datacompy\n",
      "  Downloading datacompy-0.7.2-py3-none-any.whl (27 kB)\n",
      "Requirement already satisfied: pandas>=0.25.0 in /Users/k-packxs/opt/anaconda3/lib/python3.8/site-packages (from datacompy) (1.1.3)\n",
      "Requirement already satisfied: numpy>=1.11.3 in /Users/k-packxs/opt/anaconda3/lib/python3.8/site-packages (from datacompy) (1.19.2)\n",
      "Requirement already satisfied: pytz>=2017.2 in /Users/k-packxs/opt/anaconda3/lib/python3.8/site-packages (from pandas>=0.25.0->datacompy) (2020.1)\n",
      "Requirement already satisfied: python-dateutil>=2.7.3 in /Users/k-packxs/opt/anaconda3/lib/python3.8/site-packages (from pandas>=0.25.0->datacompy) (2.8.1)\n",
      "Requirement already satisfied: six>=1.5 in /Users/k-packxs/opt/anaconda3/lib/python3.8/site-packages (from python-dateutil>=2.7.3->pandas>=0.25.0->datacompy) (1.15.0)\n",
      "Installing collected packages: datacompy\n",
      "Successfully installed datacompy-0.7.2\n"
     ]
    }
   ],
   "source": [
    "!pip install datacompy"
   ]
  },
  {
   "cell_type": "code",
   "execution_count": 4,
   "metadata": {},
   "outputs": [],
   "source": [
    "import datacompy, pandas as pd\n",
    "\n",
    "df1=pd.read_csv('../all-cv-data/already_on_cv10.csv',index_col=None)\n",
    "df1 = df1.loc[:, ~df1.columns.str.contains('^Unnamed')]\n",
    "#df1 = df1.loc[:, ~df1.columns.str.contains('^unnamed')]\n",
    "df2 =pd.read_csv('../all-cv-data/lug-batch.csv',index_col=None)"
   ]
  },
  {
   "cell_type": "code",
   "execution_count": 5,
   "metadata": {},
   "outputs": [
    {
     "data": {
      "text/html": [
       "<div>\n",
       "<style scoped>\n",
       "    .dataframe tbody tr th:only-of-type {\n",
       "        vertical-align: middle;\n",
       "    }\n",
       "\n",
       "    .dataframe tbody tr th {\n",
       "        vertical-align: top;\n",
       "    }\n",
       "\n",
       "    .dataframe thead th {\n",
       "        text-align: right;\n",
       "    }\n",
       "</style>\n",
       "<table border=\"1\" class=\"dataframe\">\n",
       "  <thead>\n",
       "    <tr style=\"text-align: right;\">\n",
       "      <th></th>\n",
       "      <th>sentence</th>\n",
       "    </tr>\n",
       "  </thead>\n",
       "  <tbody>\n",
       "    <tr>\n",
       "      <th>0</th>\n",
       "      <td>﻿Tugende e Makindye tulabe abayimbi n'abazanny...</td>\n",
       "    </tr>\n",
       "    <tr>\n",
       "      <th>1</th>\n",
       "      <td>Emmere etali nsiike ebeera nnungi eri emibiri ...</td>\n",
       "    </tr>\n",
       "    <tr>\n",
       "      <th>2</th>\n",
       "      <td>Abawala abalungi baagalwa buli muntu naye abas...</td>\n",
       "    </tr>\n",
       "    <tr>\n",
       "      <th>3</th>\n",
       "      <td>Wali obaddeko awo n'owulira ng'omutwe gulinga ...</td>\n",
       "    </tr>\n",
       "    <tr>\n",
       "      <th>4</th>\n",
       "      <td>Abayizi abatuula mu maaso batera okuba nga bat...</td>\n",
       "    </tr>\n",
       "  </tbody>\n",
       "</table>\n",
       "</div>"
      ],
      "text/plain": [
       "                                            sentence\n",
       "0  ﻿Tugende e Makindye tulabe abayimbi n'abazanny...\n",
       "1  Emmere etali nsiike ebeera nnungi eri emibiri ...\n",
       "2  Abawala abalungi baagalwa buli muntu naye abas...\n",
       "3  Wali obaddeko awo n'owulira ng'omutwe gulinga ...\n",
       "4  Abayizi abatuula mu maaso batera okuba nga bat..."
      ]
     },
     "execution_count": 5,
     "metadata": {},
     "output_type": "execute_result"
    }
   ],
   "source": [
    "df1.head()"
   ]
  },
  {
   "cell_type": "code",
   "execution_count": 6,
   "metadata": {},
   "outputs": [
    {
     "data": {
      "text/html": [
       "<div>\n",
       "<style scoped>\n",
       "    .dataframe tbody tr th:only-of-type {\n",
       "        vertical-align: middle;\n",
       "    }\n",
       "\n",
       "    .dataframe tbody tr th {\n",
       "        vertical-align: top;\n",
       "    }\n",
       "\n",
       "    .dataframe thead th {\n",
       "        text-align: right;\n",
       "    }\n",
       "</style>\n",
       "<table border=\"1\" class=\"dataframe\">\n",
       "  <thead>\n",
       "    <tr style=\"text-align: right;\">\n",
       "      <th></th>\n",
       "      <th>sentence</th>\n",
       "    </tr>\n",
       "  </thead>\n",
       "  <tbody>\n",
       "    <tr>\n",
       "      <th>0</th>\n",
       "      <td>Bangambye nti temuli buzibu bwonna era bijja k...</td>\n",
       "    </tr>\n",
       "    <tr>\n",
       "      <th>1</th>\n",
       "      <td>Yakanze kubuuza ekimutwaza mu kkomera naye nga...</td>\n",
       "    </tr>\n",
       "    <tr>\n",
       "      <th>2</th>\n",
       "      <td>Topapa byonna ngenda kubikunyumiza nga bwe bya...</td>\n",
       "    </tr>\n",
       "    <tr>\n",
       "      <th>3</th>\n",
       "      <td>Omululu omwana oyo gwe yasitula tasobola kulek...</td>\n",
       "    </tr>\n",
       "    <tr>\n",
       "      <th>4</th>\n",
       "      <td>Sirowooza nti baagala okulaba omuntu yenna ava...</td>\n",
       "    </tr>\n",
       "    <tr>\n",
       "      <th>5</th>\n",
       "      <td>Abaana baffe bangi ne baweererwa mu masomero g...</td>\n",
       "    </tr>\n",
       "    <tr>\n",
       "      <th>6</th>\n",
       "      <td>Abalala bagamba tusomeseze abaana baffe mu nni...</td>\n",
       "    </tr>\n",
       "    <tr>\n",
       "      <th>7</th>\n",
       "      <td>Abayizi emitwalo esatu be baganyulwa mu nsawo ...</td>\n",
       "    </tr>\n",
       "    <tr>\n",
       "      <th>8</th>\n",
       "      <td>Abo bbo nga basasulwa ate ffe abakola omulimu ...</td>\n",
       "    </tr>\n",
       "    <tr>\n",
       "      <th>9</th>\n",
       "      <td>Abantu abo nga balina ebisaanyizo ebiteekwa ok...</td>\n",
       "    </tr>\n",
       "  </tbody>\n",
       "</table>\n",
       "</div>"
      ],
      "text/plain": [
       "                                            sentence\n",
       "0  Bangambye nti temuli buzibu bwonna era bijja k...\n",
       "1  Yakanze kubuuza ekimutwaza mu kkomera naye nga...\n",
       "2  Topapa byonna ngenda kubikunyumiza nga bwe bya...\n",
       "3  Omululu omwana oyo gwe yasitula tasobola kulek...\n",
       "4  Sirowooza nti baagala okulaba omuntu yenna ava...\n",
       "5  Abaana baffe bangi ne baweererwa mu masomero g...\n",
       "6  Abalala bagamba tusomeseze abaana baffe mu nni...\n",
       "7  Abayizi emitwalo esatu be baganyulwa mu nsawo ...\n",
       "8  Abo bbo nga basasulwa ate ffe abakola omulimu ...\n",
       "9  Abantu abo nga balina ebisaanyizo ebiteekwa ok..."
      ]
     },
     "execution_count": 6,
     "metadata": {},
     "output_type": "execute_result"
    }
   ],
   "source": [
    "df2.head(10)"
   ]
  },
  {
   "cell_type": "code",
   "execution_count": 7,
   "metadata": {},
   "outputs": [],
   "source": [
    "#remove duplicates from new dataset\n",
    "df2=df2.drop_duplicates()"
   ]
  },
  {
   "cell_type": "code",
   "execution_count": 8,
   "metadata": {},
   "outputs": [
    {
     "name": "stdout",
     "output_type": "stream",
     "text": [
      "DataComPy Comparison\n",
      "--------------------\n",
      "\n",
      "DataFrame Summary\n",
      "-----------------\n",
      "\n",
      "  DataFrame  Columns   Rows\n",
      "0  Original        1  71816\n",
      "1       New        1   8877\n",
      "\n",
      "Column Summary\n",
      "--------------\n",
      "\n",
      "Number of columns in common: 1\n",
      "Number of columns in Original but not in New: 0\n",
      "Number of columns in New but not in Original: 0\n",
      "\n",
      "Row Summary\n",
      "-----------\n",
      "\n",
      "Matched on: sentence\n",
      "Any duplicates on match values: Yes\n",
      "Absolute Tolerance: 0\n",
      "Relative Tolerance: 0\n",
      "Number of rows in common: 1\n",
      "Number of rows in Original but not in New: 71,815\n",
      "Number of rows in New but not in Original: 8,876\n",
      "\n",
      "Number of rows with some compared columns unequal: 0\n",
      "Number of rows with all compared columns equal: 1\n",
      "\n",
      "Column Comparison\n",
      "-----------------\n",
      "\n",
      "Number of columns compared with some values unequal: 0\n",
      "Number of columns compared with all values equal: 1\n",
      "Total number of values which compare unequal: 0\n",
      "\n",
      "Sample Rows Only in Original (First 10 Columns)\n",
      "-----------------------------------------------\n",
      "\n",
      "                                                                                     sentence\n",
      "2007                      Waliwo omuntu ayinza okkusiikira muwogo ng'awooma ate nga takaluba.\n",
      "45875  Engero zaffe tuleme kuzisuulirira era tufube okuzikozesa mu njogera zaffe eza bulijjo.\n",
      "41952                                                   Ono Jaaka ye muvubi abeera e Naminya.\n",
      "64161                                                             Ye muntu omwavu oba luboje.\n",
      "68837                                     Katikkiro wa Kalema ye Muguluma ow'ekika ky'Enjovu.\n",
      "67061                                    Ggwe mugezi wekka, ne ku mulimu toyagala akugambako.\n",
      "55500                                         Ekizibu bwe kyekalirizibwa era ne kikolebwako. \n",
      "2142                               Bw'ogwa mu mukwano n'omukyala akusinga obwongo oba owedde.\n",
      "19498                                           Abantu b'omu byalo bagabana amazzi n'ebisolo.\n",
      "27383                  Abantu balina okukkirizibwa okuwaayo okusobola okukulaakulanya ekintu.\n",
      "\n",
      "Sample Rows Only in New (First 10 Columns)\n",
      "------------------------------------------\n",
      "\n",
      "                                                                                     sentence\n",
      "76248                  Naye kisoboka okuba ng'omanyi omwagalwa wo okuva ku mutwe paka kagere?\n",
      "74948                                   Sseggwanga gy'akomya okwereega, gy'akomya n'emiwuula.\n",
      "72605                                                       Ayizisa magezi, so ssi bujjukizi.\n",
      "77882  Nga nkyayimiridde awo mpuniikiridde nawulira kaggo ka muzibe nga kagenda kakoonakoona.\n",
      "74574                                                Oli ng'atereeza nnyonyi ye nga beggyawo.\n",
      "72647                                       Balaba ggoolo gye bateebye, ne baliyita eggwiiso.\n",
      "74560                                                           Olaba bulijjo ebigenda awamu.\n",
      "77010                   Wano waliwo pulaani y’ennyingiza n’enfulumya ya ssente eya bizinensi.\n",
      "76237                        Katonda agenda kutubuuza ku ngeri gye twawangaalamu ku nsi kuno.\n",
      "73440                                      Kibuuza kintu, engeri yaakyo, enfaanana n'obunene.\n",
      "\n",
      "\n"
     ]
    }
   ],
   "source": [
    "#abs_to and rel_tol (absolute tolerance and relative tolerance) - \n",
    "# allow you to specify a tolerance of deviation btn num values\n",
    " \n",
    "compare = datacompy.Compare(\n",
    "df1,\n",
    "df2,\n",
    "join_columns='sentence',  #You can also replace with on_index=True\n",
    "abs_tol=0, #Optional, defaults to 0\n",
    "rel_tol=0, #Optional, defaults to 0\n",
    "df1_name='Original', #Optional, defaults to 'df1'\n",
    "df2_name='New' #Optional, defaults to 'df2'\n",
    ")\n",
    "#compare.matches(ignore_extra_columns=False)\n",
    "\n",
    "print(compare.report())"
   ]
  },
  {
   "cell_type": "code",
   "execution_count": 9,
   "metadata": {},
   "outputs": [],
   "source": [
    "#Let's get the sentences which are already on CV\n",
    "df3=compare.intersect_rows"
   ]
  },
  {
   "cell_type": "code",
   "execution_count": 10,
   "metadata": {},
   "outputs": [
    {
     "data": {
      "text/html": [
       "<div>\n",
       "<style scoped>\n",
       "    .dataframe tbody tr th:only-of-type {\n",
       "        vertical-align: middle;\n",
       "    }\n",
       "\n",
       "    .dataframe tbody tr th {\n",
       "        vertical-align: top;\n",
       "    }\n",
       "\n",
       "    .dataframe thead th {\n",
       "        text-align: right;\n",
       "    }\n",
       "</style>\n",
       "<table border=\"1\" class=\"dataframe\">\n",
       "  <thead>\n",
       "    <tr style=\"text-align: right;\">\n",
       "      <th></th>\n",
       "      <th>sentence</th>\n",
       "      <th>_merge</th>\n",
       "    </tr>\n",
       "  </thead>\n",
       "  <tbody>\n",
       "    <tr>\n",
       "      <th>52963</th>\n",
       "      <td>Akola mulimu ki?</td>\n",
       "      <td>both</td>\n",
       "    </tr>\n",
       "  </tbody>\n",
       "</table>\n",
       "</div>"
      ],
      "text/plain": [
       "               sentence _merge\n",
       "52963  Akola mulimu ki?   both"
      ]
     },
     "execution_count": 10,
     "metadata": {},
     "output_type": "execute_result"
    }
   ],
   "source": [
    "# Let us print the sentences already on CV as table 3\n",
    "df3"
   ]
  },
  {
   "cell_type": "markdown",
   "metadata": {},
   "source": [
    "###### Other approaches to remove already existing sentences in table 3 from table 2 ---in case the one below fails\n",
    " Approach 1: cond = df1['sentence'].isin(df2['sentence'])\n",
    " \n",
    " Approach 2: df1.drop(df1[cond].index, inplace = True)\n",
    " \n",
    " Approach 3: df1[~df1.isin(df2)].dropna()"
   ]
  },
  {
   "cell_type": "code",
   "execution_count": 11,
   "metadata": {},
   "outputs": [],
   "source": [
    "#Let us remove rows from our new dataset sentences that are already on CV\n",
    "df4=df2[~df2.sentence.isin(df3.sentence)]"
   ]
  },
  {
   "cell_type": "code",
   "execution_count": 12,
   "metadata": {},
   "outputs": [
    {
     "data": {
      "text/html": [
       "<div>\n",
       "<style scoped>\n",
       "    .dataframe tbody tr th:only-of-type {\n",
       "        vertical-align: middle;\n",
       "    }\n",
       "\n",
       "    .dataframe tbody tr th {\n",
       "        vertical-align: top;\n",
       "    }\n",
       "\n",
       "    .dataframe thead th {\n",
       "        text-align: right;\n",
       "    }\n",
       "</style>\n",
       "<table border=\"1\" class=\"dataframe\">\n",
       "  <thead>\n",
       "    <tr style=\"text-align: right;\">\n",
       "      <th></th>\n",
       "      <th>sentence</th>\n",
       "    </tr>\n",
       "  </thead>\n",
       "  <tbody>\n",
       "    <tr>\n",
       "      <th>0</th>\n",
       "      <td>Bangambye nti temuli buzibu bwonna era bijja k...</td>\n",
       "    </tr>\n",
       "    <tr>\n",
       "      <th>1</th>\n",
       "      <td>Yakanze kubuuza ekimutwaza mu kkomera naye nga...</td>\n",
       "    </tr>\n",
       "    <tr>\n",
       "      <th>2</th>\n",
       "      <td>Topapa byonna ngenda kubikunyumiza nga bwe bya...</td>\n",
       "    </tr>\n",
       "    <tr>\n",
       "      <th>3</th>\n",
       "      <td>Omululu omwana oyo gwe yasitula tasobola kulek...</td>\n",
       "    </tr>\n",
       "    <tr>\n",
       "      <th>4</th>\n",
       "      <td>Sirowooza nti baagala okulaba omuntu yenna ava...</td>\n",
       "    </tr>\n",
       "    <tr>\n",
       "      <th>...</th>\n",
       "      <td>...</td>\n",
       "    </tr>\n",
       "    <tr>\n",
       "      <th>8881</th>\n",
       "      <td>Olw’ensonga nti abakazi bakosebwa nnyo entalo ...</td>\n",
       "    </tr>\n",
       "    <tr>\n",
       "      <th>8882</th>\n",
       "      <td>Kya mazima abasajja tebalowooleza ddala nti n’...</td>\n",
       "    </tr>\n",
       "    <tr>\n",
       "      <th>8883</th>\n",
       "      <td>Kino nno kyongera okujabagiza embeera anti naf...</td>\n",
       "    </tr>\n",
       "    <tr>\n",
       "      <th>8884</th>\n",
       "      <td>Embeera eno erina okukyuka.</td>\n",
       "    </tr>\n",
       "    <tr>\n",
       "      <th>8885</th>\n",
       "      <td>Wagira okwetaba kw’abakazi mu kutangira obusam...</td>\n",
       "    </tr>\n",
       "  </tbody>\n",
       "</table>\n",
       "<p>8876 rows × 1 columns</p>\n",
       "</div>"
      ],
      "text/plain": [
       "                                               sentence\n",
       "0     Bangambye nti temuli buzibu bwonna era bijja k...\n",
       "1     Yakanze kubuuza ekimutwaza mu kkomera naye nga...\n",
       "2     Topapa byonna ngenda kubikunyumiza nga bwe bya...\n",
       "3     Omululu omwana oyo gwe yasitula tasobola kulek...\n",
       "4     Sirowooza nti baagala okulaba omuntu yenna ava...\n",
       "...                                                 ...\n",
       "8881  Olw’ensonga nti abakazi bakosebwa nnyo entalo ...\n",
       "8882  Kya mazima abasajja tebalowooleza ddala nti n’...\n",
       "8883  Kino nno kyongera okujabagiza embeera anti naf...\n",
       "8884                        Embeera eno erina okukyuka.\n",
       "8885  Wagira okwetaba kw’abakazi mu kutangira obusam...\n",
       "\n",
       "[8876 rows x 1 columns]"
      ]
     },
     "execution_count": 12,
     "metadata": {},
     "output_type": "execute_result"
    }
   ],
   "source": [
    "# New table with no sentence already on CV\n",
    "df4"
   ]
  },
  {
   "cell_type": "code",
   "execution_count": 13,
   "metadata": {},
   "outputs": [],
   "source": [
    "#Let us now export the csv for uploading to COmmon Voice.\n",
    "# Don't forget to remove the sentence --- header\n",
    "# You can also delete the all_sentences.csv file now\n",
    "df4.to_csv('lug-batch-twenty-nine.csv',encoding='utf-8', index=False)"
   ]
  },
  {
   "cell_type": "code",
   "execution_count": 14,
   "metadata": {},
   "outputs": [],
   "source": [
    "#LEt's now get a txt for uploading to Common Voice\n",
    "data = pd.read_csv('lug-batch-twenty-nine.csv', encoding='utf-8')\n",
    "with open('lug-batch-twenty-nine.txt','a+', encoding='utf-8') as f:\n",
    "    for line in data.values:\n",
    "        f.write((str(line[0])+'\\n'))"
   ]
  },
  {
   "cell_type": "markdown",
   "metadata": {},
   "source": [
    "###### Note: Cross check the final csv for characters like \"/\",\"()\",\"[]\",\"‚Äô\",‚Äú, *,@,#,$,%,^,\n",
    " and other symbols like é and ç. =, +,\n",
    " \n",
    " If found: \"‚Äú\"---> replace with the urly(\") and \"‚Äô\" --> replaced with an apostrophe (').\n",
    " \n",
    " The \"‚Äô\",‚Äú, are normally caused by how you view the file ---> enconding formats ---UTF\n",
    " The rest can be removed and replaced.\n",
    " \n",
    " BE mindful that sentences with commas in between in a csv file are enclosed in quotes by \n",
    " the csv. So while changing the csv to text make sure you have no quoetes on the sentences \n",
    " for example: \"How are you\" in csv ---> How are you in txt. \n",
    " "
   ]
  },
  {
   "cell_type": "code",
   "execution_count": 15,
   "metadata": {},
   "outputs": [],
   "source": [
    "# Lets append df4 to the original dataset df1\n",
    "new_data_on_cv=df1.append(df4)"
   ]
  },
  {
   "cell_type": "code",
   "execution_count": 16,
   "metadata": {},
   "outputs": [
    {
     "data": {
      "text/html": [
       "<div>\n",
       "<style scoped>\n",
       "    .dataframe tbody tr th:only-of-type {\n",
       "        vertical-align: middle;\n",
       "    }\n",
       "\n",
       "    .dataframe tbody tr th {\n",
       "        vertical-align: top;\n",
       "    }\n",
       "\n",
       "    .dataframe thead th {\n",
       "        text-align: right;\n",
       "    }\n",
       "</style>\n",
       "<table border=\"1\" class=\"dataframe\">\n",
       "  <thead>\n",
       "    <tr style=\"text-align: right;\">\n",
       "      <th></th>\n",
       "      <th>sentence</th>\n",
       "    </tr>\n",
       "  </thead>\n",
       "  <tbody>\n",
       "    <tr>\n",
       "      <th>0</th>\n",
       "      <td>﻿Tugende e Makindye tulabe abayimbi n'abazanny...</td>\n",
       "    </tr>\n",
       "    <tr>\n",
       "      <th>1</th>\n",
       "      <td>Emmere etali nsiike ebeera nnungi eri emibiri ...</td>\n",
       "    </tr>\n",
       "    <tr>\n",
       "      <th>2</th>\n",
       "      <td>Abawala abalungi baagalwa buli muntu naye abas...</td>\n",
       "    </tr>\n",
       "    <tr>\n",
       "      <th>3</th>\n",
       "      <td>Wali obaddeko awo n'owulira ng'omutwe gulinga ...</td>\n",
       "    </tr>\n",
       "    <tr>\n",
       "      <th>4</th>\n",
       "      <td>Abayizi abatuula mu maaso batera okuba nga bat...</td>\n",
       "    </tr>\n",
       "    <tr>\n",
       "      <th>...</th>\n",
       "      <td>...</td>\n",
       "    </tr>\n",
       "    <tr>\n",
       "      <th>8881</th>\n",
       "      <td>Olw’ensonga nti abakazi bakosebwa nnyo entalo ...</td>\n",
       "    </tr>\n",
       "    <tr>\n",
       "      <th>8882</th>\n",
       "      <td>Kya mazima abasajja tebalowooleza ddala nti n’...</td>\n",
       "    </tr>\n",
       "    <tr>\n",
       "      <th>8883</th>\n",
       "      <td>Kino nno kyongera okujabagiza embeera anti naf...</td>\n",
       "    </tr>\n",
       "    <tr>\n",
       "      <th>8884</th>\n",
       "      <td>Embeera eno erina okukyuka.</td>\n",
       "    </tr>\n",
       "    <tr>\n",
       "      <th>8885</th>\n",
       "      <td>Wagira okwetaba kw’abakazi mu kutangira obusam...</td>\n",
       "    </tr>\n",
       "  </tbody>\n",
       "</table>\n",
       "<p>80692 rows × 1 columns</p>\n",
       "</div>"
      ],
      "text/plain": [
       "                                               sentence\n",
       "0     ﻿Tugende e Makindye tulabe abayimbi n'abazanny...\n",
       "1     Emmere etali nsiike ebeera nnungi eri emibiri ...\n",
       "2     Abawala abalungi baagalwa buli muntu naye abas...\n",
       "3     Wali obaddeko awo n'owulira ng'omutwe gulinga ...\n",
       "4     Abayizi abatuula mu maaso batera okuba nga bat...\n",
       "...                                                 ...\n",
       "8881  Olw’ensonga nti abakazi bakosebwa nnyo entalo ...\n",
       "8882  Kya mazima abasajja tebalowooleza ddala nti n’...\n",
       "8883  Kino nno kyongera okujabagiza embeera anti naf...\n",
       "8884                        Embeera eno erina okukyuka.\n",
       "8885  Wagira okwetaba kw’abakazi mu kutangira obusam...\n",
       "\n",
       "[80692 rows x 1 columns]"
      ]
     },
     "execution_count": 16,
     "metadata": {},
     "output_type": "execute_result"
    }
   ],
   "source": [
    "new_data_on_cv"
   ]
  },
  {
   "cell_type": "code",
   "execution_count": 17,
   "metadata": {},
   "outputs": [],
   "source": [
    "#save new dataset for sentences on cv with new name. \n",
    "new_data_on_cv.to_csv('../all-cv-data/already_on_cv11.csv',index=False)"
   ]
  },
  {
   "cell_type": "code",
   "execution_count": 18,
   "metadata": {},
   "outputs": [
    {
     "name": "stdout",
     "output_type": "stream",
     "text": [
      "file deleted\n"
     ]
    }
   ],
   "source": [
    "import os\n",
    "  \n",
    "# first check whether file exists or not\n",
    "# calling remove method to delete the csv file\n",
    "# in remove method you need to pass file name and type\n",
    "\n",
    "file = '../all-cv-data/already_on_cv10.csv'\n",
    "if(os.path.exists(file) and os.path.isfile(file)):\n",
    "    os.remove(file)\n",
    "    print(\"file deleted\")\n",
    "else:\n",
    "     print(\"file not found\")"
   ]
  },
  {
   "cell_type": "code",
   "execution_count": 19,
   "metadata": {},
   "outputs": [
    {
     "data": {
      "text/html": [
       "<div>\n",
       "<style scoped>\n",
       "    .dataframe tbody tr th:only-of-type {\n",
       "        vertical-align: middle;\n",
       "    }\n",
       "\n",
       "    .dataframe tbody tr th {\n",
       "        vertical-align: top;\n",
       "    }\n",
       "\n",
       "    .dataframe thead th {\n",
       "        text-align: right;\n",
       "    }\n",
       "</style>\n",
       "<table border=\"1\" class=\"dataframe\">\n",
       "  <thead>\n",
       "    <tr style=\"text-align: right;\">\n",
       "      <th></th>\n",
       "      <th>sentence</th>\n",
       "    </tr>\n",
       "  </thead>\n",
       "  <tbody>\n",
       "    <tr>\n",
       "      <th>0</th>\n",
       "      <td>﻿Tugende e Makindye tulabe abayimbi n'abazanny...</td>\n",
       "    </tr>\n",
       "    <tr>\n",
       "      <th>1</th>\n",
       "      <td>Emmere etali nsiike ebeera nnungi eri emibiri ...</td>\n",
       "    </tr>\n",
       "    <tr>\n",
       "      <th>2</th>\n",
       "      <td>Abawala abalungi baagalwa buli muntu naye abas...</td>\n",
       "    </tr>\n",
       "    <tr>\n",
       "      <th>3</th>\n",
       "      <td>Wali obaddeko awo n'owulira ng'omutwe gulinga ...</td>\n",
       "    </tr>\n",
       "    <tr>\n",
       "      <th>4</th>\n",
       "      <td>Abayizi abatuula mu maaso batera okuba nga bat...</td>\n",
       "    </tr>\n",
       "    <tr>\n",
       "      <th>...</th>\n",
       "      <td>...</td>\n",
       "    </tr>\n",
       "    <tr>\n",
       "      <th>8881</th>\n",
       "      <td>Olw’ensonga nti abakazi bakosebwa nnyo entalo ...</td>\n",
       "    </tr>\n",
       "    <tr>\n",
       "      <th>8882</th>\n",
       "      <td>Kya mazima abasajja tebalowooleza ddala nti n’...</td>\n",
       "    </tr>\n",
       "    <tr>\n",
       "      <th>8883</th>\n",
       "      <td>Kino nno kyongera okujabagiza embeera anti naf...</td>\n",
       "    </tr>\n",
       "    <tr>\n",
       "      <th>8884</th>\n",
       "      <td>Embeera eno erina okukyuka.</td>\n",
       "    </tr>\n",
       "    <tr>\n",
       "      <th>8885</th>\n",
       "      <td>Wagira okwetaba kw’abakazi mu kutangira obusam...</td>\n",
       "    </tr>\n",
       "  </tbody>\n",
       "</table>\n",
       "<p>80692 rows × 1 columns</p>\n",
       "</div>"
      ],
      "text/plain": [
       "                                               sentence\n",
       "0     ﻿Tugende e Makindye tulabe abayimbi n'abazanny...\n",
       "1     Emmere etali nsiike ebeera nnungi eri emibiri ...\n",
       "2     Abawala abalungi baagalwa buli muntu naye abas...\n",
       "3     Wali obaddeko awo n'owulira ng'omutwe gulinga ...\n",
       "4     Abayizi abatuula mu maaso batera okuba nga bat...\n",
       "...                                                 ...\n",
       "8881  Olw’ensonga nti abakazi bakosebwa nnyo entalo ...\n",
       "8882  Kya mazima abasajja tebalowooleza ddala nti n’...\n",
       "8883  Kino nno kyongera okujabagiza embeera anti naf...\n",
       "8884                        Embeera eno erina okukyuka.\n",
       "8885  Wagira okwetaba kw’abakazi mu kutangira obusam...\n",
       "\n",
       "[80692 rows x 1 columns]"
      ]
     },
     "execution_count": 19,
     "metadata": {},
     "output_type": "execute_result"
    }
   ],
   "source": [
    "new_data_on_cv"
   ]
  },
  {
   "cell_type": "code",
   "execution_count": null,
   "metadata": {},
   "outputs": [],
   "source": []
  }
 ],
 "metadata": {
  "kernelspec": {
   "display_name": "Python 3",
   "language": "python",
   "name": "python3"
  },
  "language_info": {
   "codemirror_mode": {
    "name": "ipython",
    "version": 3
   },
   "file_extension": ".py",
   "mimetype": "text/x-python",
   "name": "python",
   "nbconvert_exporter": "python",
   "pygments_lexer": "ipython3",
   "version": "3.8.2"
  }
 },
 "nbformat": 4,
 "nbformat_minor": 4
}
