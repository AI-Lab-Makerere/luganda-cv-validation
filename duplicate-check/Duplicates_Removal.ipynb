{
 "cells": [
  {
   "cell_type": "code",
   "execution_count": 1,
   "metadata": {},
   "outputs": [
    {
     "name": "stdout",
     "output_type": "stream",
     "text": [
      "Collecting datacompy\n",
      "  Downloading datacompy-0.7.2-py3-none-any.whl (27 kB)\n",
      "Requirement already satisfied: pandas>=0.25.0 in /Users/k-packxs/opt/anaconda3/lib/python3.8/site-packages (from datacompy) (1.1.3)\n",
      "Requirement already satisfied: numpy>=1.11.3 in /Users/k-packxs/opt/anaconda3/lib/python3.8/site-packages (from datacompy) (1.19.2)\n",
      "Requirement already satisfied: pytz>=2017.2 in /Users/k-packxs/opt/anaconda3/lib/python3.8/site-packages (from pandas>=0.25.0->datacompy) (2020.1)\n",
      "Requirement already satisfied: python-dateutil>=2.7.3 in /Users/k-packxs/opt/anaconda3/lib/python3.8/site-packages (from pandas>=0.25.0->datacompy) (2.8.1)\n",
      "Requirement already satisfied: six>=1.5 in /Users/k-packxs/opt/anaconda3/lib/python3.8/site-packages (from python-dateutil>=2.7.3->pandas>=0.25.0->datacompy) (1.15.0)\n",
      "Installing collected packages: datacompy\n",
      "Successfully installed datacompy-0.7.2\n"
     ]
    }
   ],
   "source": [
    "!pip install datacompy"
   ]
  },
  {
   "cell_type": "code",
   "execution_count": 40,
   "metadata": {},
   "outputs": [],
   "source": [
    "import datacompy, pandas as pd\n",
    "\n",
    "df1=pd.read_csv('../all-cv-data/already_on_cv9.csv',index_col=None)\n",
    "df1 = df1.loc[:, ~df1.columns.str.contains('^Unnamed')]\n",
    "#df1 = df1.loc[:, ~df1.columns.str.contains('^unnamed')]\n",
    "df2 =pd.read_csv('../all-cv-data/lug-batch-twenty-eight.csv',index_col=None)"
   ]
  },
  {
   "cell_type": "code",
   "execution_count": 41,
   "metadata": {},
   "outputs": [
    {
     "data": {
      "text/html": [
       "<div>\n",
       "<style scoped>\n",
       "    .dataframe tbody tr th:only-of-type {\n",
       "        vertical-align: middle;\n",
       "    }\n",
       "\n",
       "    .dataframe tbody tr th {\n",
       "        vertical-align: top;\n",
       "    }\n",
       "\n",
       "    .dataframe thead th {\n",
       "        text-align: right;\n",
       "    }\n",
       "</style>\n",
       "<table border=\"1\" class=\"dataframe\">\n",
       "  <thead>\n",
       "    <tr style=\"text-align: right;\">\n",
       "      <th></th>\n",
       "      <th>sentence</th>\n",
       "    </tr>\n",
       "  </thead>\n",
       "  <tbody>\n",
       "    <tr>\n",
       "      <th>0</th>\n",
       "      <td>﻿Tugende e Makindye tulabe abayimbi n'abazanny...</td>\n",
       "    </tr>\n",
       "    <tr>\n",
       "      <th>1</th>\n",
       "      <td>Emmere etali nsiike ebeera nnungi eri emibiri ...</td>\n",
       "    </tr>\n",
       "    <tr>\n",
       "      <th>2</th>\n",
       "      <td>Abawala abalungi baagalwa buli muntu naye abas...</td>\n",
       "    </tr>\n",
       "    <tr>\n",
       "      <th>3</th>\n",
       "      <td>Wali obaddeko awo n'owulira ng'omutwe gulinga ...</td>\n",
       "    </tr>\n",
       "    <tr>\n",
       "      <th>4</th>\n",
       "      <td>Abayizi abatuula mu maaso batera okuba nga bat...</td>\n",
       "    </tr>\n",
       "  </tbody>\n",
       "</table>\n",
       "</div>"
      ],
      "text/plain": [
       "                                            sentence\n",
       "0  ﻿Tugende e Makindye tulabe abayimbi n'abazanny...\n",
       "1  Emmere etali nsiike ebeera nnungi eri emibiri ...\n",
       "2  Abawala abalungi baagalwa buli muntu naye abas...\n",
       "3  Wali obaddeko awo n'owulira ng'omutwe gulinga ...\n",
       "4  Abayizi abatuula mu maaso batera okuba nga bat..."
      ]
     },
     "execution_count": 41,
     "metadata": {},
     "output_type": "execute_result"
    }
   ],
   "source": [
    "df1.head()"
   ]
  },
  {
   "cell_type": "code",
   "execution_count": 42,
   "metadata": {},
   "outputs": [
    {
     "data": {
      "text/html": [
       "<div>\n",
       "<style scoped>\n",
       "    .dataframe tbody tr th:only-of-type {\n",
       "        vertical-align: middle;\n",
       "    }\n",
       "\n",
       "    .dataframe tbody tr th {\n",
       "        vertical-align: top;\n",
       "    }\n",
       "\n",
       "    .dataframe thead th {\n",
       "        text-align: right;\n",
       "    }\n",
       "</style>\n",
       "<table border=\"1\" class=\"dataframe\">\n",
       "  <thead>\n",
       "    <tr style=\"text-align: right;\">\n",
       "      <th></th>\n",
       "      <th>sentence</th>\n",
       "    </tr>\n",
       "  </thead>\n",
       "  <tbody>\n",
       "    <tr>\n",
       "      <th>0</th>\n",
       "      <td>Akatabo akaluŋŋamya abasuubuzi ku ngeri y'okug...</td>\n",
       "    </tr>\n",
       "    <tr>\n",
       "      <th>1</th>\n",
       "      <td>Emigabo mu katale k'ekitongole kya Yuganda eki...</td>\n",
       "    </tr>\n",
       "    <tr>\n",
       "      <th>2</th>\n",
       "      <td>Abantu bangi mu Uganda bamanyi katono nnyo ku ...</td>\n",
       "    </tr>\n",
       "    <tr>\n",
       "      <th>3</th>\n",
       "      <td>Obutale bw'emigabo bubaddewo mu Afirika okumal...</td>\n",
       "    </tr>\n",
       "    <tr>\n",
       "      <th>4</th>\n",
       "      <td>Tebannaba kumanya bulungi ngeri gye bayinza ku...</td>\n",
       "    </tr>\n",
       "    <tr>\n",
       "      <th>5</th>\n",
       "      <td>Engeri gye bakolamu n'engeri gye bayinza okuba...</td>\n",
       "    </tr>\n",
       "    <tr>\n",
       "      <th>6</th>\n",
       "      <td>Abantu batono nnyo mu Uganda abeetaba mu bikwa...</td>\n",
       "    </tr>\n",
       "    <tr>\n",
       "      <th>7</th>\n",
       "      <td>Okugula n'okutunda emigabo mu butale buno si k...</td>\n",
       "    </tr>\n",
       "    <tr>\n",
       "      <th>8</th>\n",
       "      <td>Ensonga y'obutale bw'emigabo mpya nnyo gye bali.</td>\n",
       "    </tr>\n",
       "    <tr>\n",
       "      <th>9</th>\n",
       "      <td>Akatabo kano kajja kuddamu ebibuuzo ebitera ok...</td>\n",
       "    </tr>\n",
       "  </tbody>\n",
       "</table>\n",
       "</div>"
      ],
      "text/plain": [
       "                                            sentence\n",
       "0  Akatabo akaluŋŋamya abasuubuzi ku ngeri y'okug...\n",
       "1  Emigabo mu katale k'ekitongole kya Yuganda eki...\n",
       "2  Abantu bangi mu Uganda bamanyi katono nnyo ku ...\n",
       "3  Obutale bw'emigabo bubaddewo mu Afirika okumal...\n",
       "4  Tebannaba kumanya bulungi ngeri gye bayinza ku...\n",
       "5  Engeri gye bakolamu n'engeri gye bayinza okuba...\n",
       "6  Abantu batono nnyo mu Uganda abeetaba mu bikwa...\n",
       "7  Okugula n'okutunda emigabo mu butale buno si k...\n",
       "8   Ensonga y'obutale bw'emigabo mpya nnyo gye bali.\n",
       "9  Akatabo kano kajja kuddamu ebibuuzo ebitera ok..."
      ]
     },
     "execution_count": 42,
     "metadata": {},
     "output_type": "execute_result"
    }
   ],
   "source": [
    "df2.head(10)"
   ]
  },
  {
   "cell_type": "code",
   "execution_count": 43,
   "metadata": {},
   "outputs": [],
   "source": [
    "#remove duplicates from new dataset\n",
    "df2=df2.drop_duplicates()"
   ]
  },
  {
   "cell_type": "code",
   "execution_count": 44,
   "metadata": {},
   "outputs": [
    {
     "name": "stdout",
     "output_type": "stream",
     "text": [
      "DataComPy Comparison\n",
      "--------------------\n",
      "\n",
      "DataFrame Summary\n",
      "-----------------\n",
      "\n",
      "  DataFrame  Columns   Rows\n",
      "0  Original        1  67495\n",
      "1       New        1   4322\n",
      "\n",
      "Column Summary\n",
      "--------------\n",
      "\n",
      "Number of columns in common: 1\n",
      "Number of columns in Original but not in New: 0\n",
      "Number of columns in New but not in Original: 0\n",
      "\n",
      "Row Summary\n",
      "-----------\n",
      "\n",
      "Matched on: sentence\n",
      "Any duplicates on match values: Yes\n",
      "Absolute Tolerance: 0\n",
      "Relative Tolerance: 0\n",
      "Number of rows in common: 1\n",
      "Number of rows in Original but not in New: 67,494\n",
      "Number of rows in New but not in Original: 4,321\n",
      "\n",
      "Number of rows with some compared columns unequal: 0\n",
      "Number of rows with all compared columns equal: 1\n",
      "\n",
      "Column Comparison\n",
      "-----------------\n",
      "\n",
      "Number of columns compared with some values unequal: 0\n",
      "Number of columns compared with all values equal: 1\n",
      "Total number of values which compare unequal: 0\n",
      "\n",
      "Sample Rows Only in Original (First 10 Columns)\n",
      "-----------------------------------------------\n",
      "\n",
      "                                                                                              sentence\n",
      "12342           Ekitongole kiteekateeka okusomesa ebikwata ku kawuka ka ssenyiga omukambwe mu kitundu.\n",
      "44767                                Noolwekyo si kya magezi kumala gatomera muntu gw’osanze mu kkubo.\n",
      "62178                                                          Abantu abamu baamala dda okubayimbulwa.\n",
      "11720                         Abakulembeze balina obusobozi okukyusa obulamu bw'abantu be bakulembera.\n",
      "65581       Enkeera omukyala baamusiibula mu ddwaliro bambi bwe yali agenda n'ampaayo emitwalo etaano.\n",
      "62565                                               Omutwala ng'ani ssebo, sooka weyanjule mu kitundu.\n",
      "64438                                Era mwe gakolera ennyo ku nkwajjirira kinnamwanyi we zibeererawo.\n",
      "13994                                                                       Ateeberezebwa yakwatiddwa.\n",
      "49085  Ekyo kiyinza okufaanana ng’olugero, naye kituufu era kya mazima ne mu bantu bwe kityo bwe kiri.\n",
      "22775                                                    Ebyobuwangwa tebisomesebwa wabula bikwatibwa.\n",
      "\n",
      "Sample Rows Only in New (First 10 Columns)\n",
      "------------------------------------------\n",
      "\n",
      "                                                        sentence\n",
      "71377     Omuweereza olwalengeranga kasitoma, n'ayita mukama we.\n",
      "69984                Yamutwala okusoma eddiini ku myaka musanvu.\n",
      "71311        Eddiiro telyalimu ntebe za sofa nga ye bwe yagamba.\n",
      "69936                         Baabatuukako nga bonna baudde eri.\n",
      "70646         Taata amugambye amuyambeko ku by'omukolo gw'enkya.\n",
      "70631                             Hajati yagenda akaaba bukaabi!\n",
      "70579                       Era n'engoye ze ezimu teyazisangamu.\n",
      "71386   Omuzannyo nga guwedde,baatambula mpolamola ne badda eka.\n",
      "69872  Amazina bwe gaggwa, abantu bonna ne batandika okudda eka.\n",
      "70459       Ebintu bwe byaggwangamu nga batumya okuva e bulaaya.\n",
      "\n",
      "\n"
     ]
    }
   ],
   "source": [
    "#abs_to and rel_tol (absolute tolerance and relative tolerance) - \n",
    "# allow you to specify a tolerance of deviation btn num values\n",
    " \n",
    "compare = datacompy.Compare(\n",
    "df1,\n",
    "df2,\n",
    "join_columns='sentence',  #You can also replace with on_index=True\n",
    "abs_tol=0, #Optional, defaults to 0\n",
    "rel_tol=0, #Optional, defaults to 0\n",
    "df1_name='Original', #Optional, defaults to 'df1'\n",
    "df2_name='New' #Optional, defaults to 'df2'\n",
    ")\n",
    "#compare.matches(ignore_extra_columns=False)\n",
    "\n",
    "print(compare.report())"
   ]
  },
  {
   "cell_type": "code",
   "execution_count": 45,
   "metadata": {},
   "outputs": [],
   "source": [
    "#Let's get the sentences which are already on CV\n",
    "df3=compare.intersect_rows"
   ]
  },
  {
   "cell_type": "code",
   "execution_count": 46,
   "metadata": {},
   "outputs": [
    {
     "data": {
      "text/html": [
       "<div>\n",
       "<style scoped>\n",
       "    .dataframe tbody tr th:only-of-type {\n",
       "        vertical-align: middle;\n",
       "    }\n",
       "\n",
       "    .dataframe tbody tr th {\n",
       "        vertical-align: top;\n",
       "    }\n",
       "\n",
       "    .dataframe thead th {\n",
       "        text-align: right;\n",
       "    }\n",
       "</style>\n",
       "<table border=\"1\" class=\"dataframe\">\n",
       "  <thead>\n",
       "    <tr style=\"text-align: right;\">\n",
       "      <th></th>\n",
       "      <th>sentence</th>\n",
       "      <th>_merge</th>\n",
       "    </tr>\n",
       "  </thead>\n",
       "  <tbody>\n",
       "    <tr>\n",
       "      <th>25853</th>\n",
       "      <td>Lubaale mbeera nga n'embiro kw'otadde.</td>\n",
       "      <td>both</td>\n",
       "    </tr>\n",
       "  </tbody>\n",
       "</table>\n",
       "</div>"
      ],
      "text/plain": [
       "                                     sentence _merge\n",
       "25853  Lubaale mbeera nga n'embiro kw'otadde.   both"
      ]
     },
     "execution_count": 46,
     "metadata": {},
     "output_type": "execute_result"
    }
   ],
   "source": [
    "# Let us print the sentences already on CV as table 3\n",
    "df3"
   ]
  },
  {
   "cell_type": "markdown",
   "metadata": {},
   "source": [
    "###### Other approaches to remove already existing sentences in table 3 from table 2 ---in case the one below fails\n",
    " Approach 1: cond = df1['sentence'].isin(df2['sentence'])\n",
    " \n",
    " Approach 2: df1.drop(df1[cond].index, inplace = True)\n",
    " \n",
    " Approach 3: df1[~df1.isin(df2)].dropna()"
   ]
  },
  {
   "cell_type": "code",
   "execution_count": 47,
   "metadata": {},
   "outputs": [],
   "source": [
    "#Let us remove rows from our new dataset sentences that are already on CV\n",
    "df4=df2[~df2.sentence.isin(df3.sentence)]"
   ]
  },
  {
   "cell_type": "code",
   "execution_count": 48,
   "metadata": {},
   "outputs": [
    {
     "data": {
      "text/html": [
       "<div>\n",
       "<style scoped>\n",
       "    .dataframe tbody tr th:only-of-type {\n",
       "        vertical-align: middle;\n",
       "    }\n",
       "\n",
       "    .dataframe tbody tr th {\n",
       "        vertical-align: top;\n",
       "    }\n",
       "\n",
       "    .dataframe thead th {\n",
       "        text-align: right;\n",
       "    }\n",
       "</style>\n",
       "<table border=\"1\" class=\"dataframe\">\n",
       "  <thead>\n",
       "    <tr style=\"text-align: right;\">\n",
       "      <th></th>\n",
       "      <th>sentence</th>\n",
       "    </tr>\n",
       "  </thead>\n",
       "  <tbody>\n",
       "    <tr>\n",
       "      <th>0</th>\n",
       "      <td>Akatabo akaluŋŋamya abasuubuzi ku ngeri y'okug...</td>\n",
       "    </tr>\n",
       "    <tr>\n",
       "      <th>1</th>\n",
       "      <td>Emigabo mu katale k'ekitongole kya Yuganda eki...</td>\n",
       "    </tr>\n",
       "    <tr>\n",
       "      <th>2</th>\n",
       "      <td>Abantu bangi mu Uganda bamanyi katono nnyo ku ...</td>\n",
       "    </tr>\n",
       "    <tr>\n",
       "      <th>3</th>\n",
       "      <td>Obutale bw'emigabo bubaddewo mu Afirika okumal...</td>\n",
       "    </tr>\n",
       "    <tr>\n",
       "      <th>4</th>\n",
       "      <td>Tebannaba kumanya bulungi ngeri gye bayinza ku...</td>\n",
       "    </tr>\n",
       "    <tr>\n",
       "      <th>...</th>\n",
       "      <td>...</td>\n",
       "    </tr>\n",
       "    <tr>\n",
       "      <th>4317</th>\n",
       "      <td>Weebale kwambala n'onyuma.</td>\n",
       "    </tr>\n",
       "    <tr>\n",
       "      <th>4318</th>\n",
       "      <td>Laba abawala abato abanyirira.</td>\n",
       "    </tr>\n",
       "    <tr>\n",
       "      <th>4319</th>\n",
       "      <td>Otera kugula wa ebintu by'omunyumba?</td>\n",
       "    </tr>\n",
       "    <tr>\n",
       "      <th>4320</th>\n",
       "      <td>Wali obaddeko wano ng'abuuza Hajji?</td>\n",
       "    </tr>\n",
       "    <tr>\n",
       "      <th>4321</th>\n",
       "      <td>Bw'owulira ng'owuubadde ojja n'onsanga ku dduuka.</td>\n",
       "    </tr>\n",
       "  </tbody>\n",
       "</table>\n",
       "<p>4321 rows × 1 columns</p>\n",
       "</div>"
      ],
      "text/plain": [
       "                                               sentence\n",
       "0     Akatabo akaluŋŋamya abasuubuzi ku ngeri y'okug...\n",
       "1     Emigabo mu katale k'ekitongole kya Yuganda eki...\n",
       "2     Abantu bangi mu Uganda bamanyi katono nnyo ku ...\n",
       "3     Obutale bw'emigabo bubaddewo mu Afirika okumal...\n",
       "4     Tebannaba kumanya bulungi ngeri gye bayinza ku...\n",
       "...                                                 ...\n",
       "4317                         Weebale kwambala n'onyuma.\n",
       "4318                     Laba abawala abato abanyirira.\n",
       "4319               Otera kugula wa ebintu by'omunyumba?\n",
       "4320                Wali obaddeko wano ng'abuuza Hajji?\n",
       "4321  Bw'owulira ng'owuubadde ojja n'onsanga ku dduuka.\n",
       "\n",
       "[4321 rows x 1 columns]"
      ]
     },
     "execution_count": 48,
     "metadata": {},
     "output_type": "execute_result"
    }
   ],
   "source": [
    "# New table with no sentence already on CV\n",
    "df4"
   ]
  },
  {
   "cell_type": "code",
   "execution_count": 50,
   "metadata": {},
   "outputs": [],
   "source": [
    "#Let us now export the csv for uploading to COmmon Voice.\n",
    "# Don't forget to remove the sentence --- header\n",
    "# You can also delete the all_sentences.csv file now\n",
    "df4.to_csv('lug-batch-twenty-eight.csv',encoding='utf-8', index=False)"
   ]
  },
  {
   "cell_type": "code",
   "execution_count": 51,
   "metadata": {},
   "outputs": [],
   "source": [
    "#LEt's now get a txt for uploading to Common Voice\n",
    "data = pd.read_csv('lug-batch-twenty-eight.csv', encoding='utf-8')\n",
    "with open('lug-batch-twenty-eight.txt','a+', encoding='utf-8') as f:\n",
    "    for line in data.values:\n",
    "        f.write((str(line[0])+'\\n'))"
   ]
  },
  {
   "cell_type": "markdown",
   "metadata": {},
   "source": [
    "###### Note: Cross check the final csv for characters like \"/\",\"()\",\"[]\",\"‚Äô\",‚Äú, *,@,#,$,%,^,\n",
    " and other symbols like é and ç. =, +,\n",
    " \n",
    " If found: \"‚Äú\"---> replace with the urly(\") and \"‚Äô\" --> replaced with an apostrophe (').\n",
    " \n",
    " The \"‚Äô\",‚Äú, are normally caused by how you view the file ---> enconding formats ---UTF\n",
    " The rest can be removed and replaced.\n",
    " \n",
    " BE mindful that sentences with commas in between in a csv file are enclosed in quotes by \n",
    " the csv. So while changing the csv to text make sure you have no quoetes on the sentences \n",
    " for example: \"How are you\" in csv ---> How are you in txt. \n",
    " "
   ]
  },
  {
   "cell_type": "code",
   "execution_count": 52,
   "metadata": {},
   "outputs": [],
   "source": [
    "# Lets append df4 to the original dataset df1\n",
    "new_data_on_cv=df1.append(df4)"
   ]
  },
  {
   "cell_type": "code",
   "execution_count": 53,
   "metadata": {},
   "outputs": [
    {
     "data": {
      "text/html": [
       "<div>\n",
       "<style scoped>\n",
       "    .dataframe tbody tr th:only-of-type {\n",
       "        vertical-align: middle;\n",
       "    }\n",
       "\n",
       "    .dataframe tbody tr th {\n",
       "        vertical-align: top;\n",
       "    }\n",
       "\n",
       "    .dataframe thead th {\n",
       "        text-align: right;\n",
       "    }\n",
       "</style>\n",
       "<table border=\"1\" class=\"dataframe\">\n",
       "  <thead>\n",
       "    <tr style=\"text-align: right;\">\n",
       "      <th></th>\n",
       "      <th>sentence</th>\n",
       "    </tr>\n",
       "  </thead>\n",
       "  <tbody>\n",
       "    <tr>\n",
       "      <th>0</th>\n",
       "      <td>﻿Tugende e Makindye tulabe abayimbi n'abazanny...</td>\n",
       "    </tr>\n",
       "    <tr>\n",
       "      <th>1</th>\n",
       "      <td>Emmere etali nsiike ebeera nnungi eri emibiri ...</td>\n",
       "    </tr>\n",
       "    <tr>\n",
       "      <th>2</th>\n",
       "      <td>Abawala abalungi baagalwa buli muntu naye abas...</td>\n",
       "    </tr>\n",
       "    <tr>\n",
       "      <th>3</th>\n",
       "      <td>Wali obaddeko awo n'owulira ng'omutwe gulinga ...</td>\n",
       "    </tr>\n",
       "    <tr>\n",
       "      <th>4</th>\n",
       "      <td>Abayizi abatuula mu maaso batera okuba nga bat...</td>\n",
       "    </tr>\n",
       "    <tr>\n",
       "      <th>...</th>\n",
       "      <td>...</td>\n",
       "    </tr>\n",
       "    <tr>\n",
       "      <th>4317</th>\n",
       "      <td>Weebale kwambala n'onyuma.</td>\n",
       "    </tr>\n",
       "    <tr>\n",
       "      <th>4318</th>\n",
       "      <td>Laba abawala abato abanyirira.</td>\n",
       "    </tr>\n",
       "    <tr>\n",
       "      <th>4319</th>\n",
       "      <td>Otera kugula wa ebintu by'omunyumba?</td>\n",
       "    </tr>\n",
       "    <tr>\n",
       "      <th>4320</th>\n",
       "      <td>Wali obaddeko wano ng'abuuza Hajji?</td>\n",
       "    </tr>\n",
       "    <tr>\n",
       "      <th>4321</th>\n",
       "      <td>Bw'owulira ng'owuubadde ojja n'onsanga ku dduuka.</td>\n",
       "    </tr>\n",
       "  </tbody>\n",
       "</table>\n",
       "<p>71816 rows × 1 columns</p>\n",
       "</div>"
      ],
      "text/plain": [
       "                                               sentence\n",
       "0     ﻿Tugende e Makindye tulabe abayimbi n'abazanny...\n",
       "1     Emmere etali nsiike ebeera nnungi eri emibiri ...\n",
       "2     Abawala abalungi baagalwa buli muntu naye abas...\n",
       "3     Wali obaddeko awo n'owulira ng'omutwe gulinga ...\n",
       "4     Abayizi abatuula mu maaso batera okuba nga bat...\n",
       "...                                                 ...\n",
       "4317                         Weebale kwambala n'onyuma.\n",
       "4318                     Laba abawala abato abanyirira.\n",
       "4319               Otera kugula wa ebintu by'omunyumba?\n",
       "4320                Wali obaddeko wano ng'abuuza Hajji?\n",
       "4321  Bw'owulira ng'owuubadde ojja n'onsanga ku dduuka.\n",
       "\n",
       "[71816 rows x 1 columns]"
      ]
     },
     "execution_count": 53,
     "metadata": {},
     "output_type": "execute_result"
    }
   ],
   "source": [
    "new_data_on_cv"
   ]
  },
  {
   "cell_type": "code",
   "execution_count": 54,
   "metadata": {},
   "outputs": [],
   "source": [
    "#save new dataset for sentences on cv with new name. \n",
    "new_data_on_cv.to_csv('../all-cv-data/already_on_cv10.csv',index=False)"
   ]
  },
  {
   "cell_type": "code",
   "execution_count": 55,
   "metadata": {},
   "outputs": [
    {
     "name": "stdout",
     "output_type": "stream",
     "text": [
      "file deleted\n"
     ]
    }
   ],
   "source": [
    "import os\n",
    "  \n",
    "# first check whether file exists or not\n",
    "# calling remove method to delete the csv file\n",
    "# in remove method you need to pass file name and type\n",
    "\n",
    "file = '../all-cv-data/already_on_cv9.csv'\n",
    "if(os.path.exists(file) and os.path.isfile(file)):\n",
    "    os.remove(file)\n",
    "    print(\"file deleted\")\n",
    "else:\n",
    "     print(\"file not found\")"
   ]
  },
  {
   "cell_type": "code",
   "execution_count": 57,
   "metadata": {},
   "outputs": [
    {
     "data": {
      "text/html": [
       "<div>\n",
       "<style scoped>\n",
       "    .dataframe tbody tr th:only-of-type {\n",
       "        vertical-align: middle;\n",
       "    }\n",
       "\n",
       "    .dataframe tbody tr th {\n",
       "        vertical-align: top;\n",
       "    }\n",
       "\n",
       "    .dataframe thead th {\n",
       "        text-align: right;\n",
       "    }\n",
       "</style>\n",
       "<table border=\"1\" class=\"dataframe\">\n",
       "  <thead>\n",
       "    <tr style=\"text-align: right;\">\n",
       "      <th></th>\n",
       "      <th>sentence</th>\n",
       "    </tr>\n",
       "  </thead>\n",
       "  <tbody>\n",
       "    <tr>\n",
       "      <th>0</th>\n",
       "      <td>﻿Tugende e Makindye tulabe abayimbi n'abazanny...</td>\n",
       "    </tr>\n",
       "    <tr>\n",
       "      <th>1</th>\n",
       "      <td>Emmere etali nsiike ebeera nnungi eri emibiri ...</td>\n",
       "    </tr>\n",
       "    <tr>\n",
       "      <th>2</th>\n",
       "      <td>Abawala abalungi baagalwa buli muntu naye abas...</td>\n",
       "    </tr>\n",
       "    <tr>\n",
       "      <th>3</th>\n",
       "      <td>Wali obaddeko awo n'owulira ng'omutwe gulinga ...</td>\n",
       "    </tr>\n",
       "    <tr>\n",
       "      <th>4</th>\n",
       "      <td>Abayizi abatuula mu maaso batera okuba nga bat...</td>\n",
       "    </tr>\n",
       "    <tr>\n",
       "      <th>...</th>\n",
       "      <td>...</td>\n",
       "    </tr>\n",
       "    <tr>\n",
       "      <th>4317</th>\n",
       "      <td>Weebale kwambala n'onyuma.</td>\n",
       "    </tr>\n",
       "    <tr>\n",
       "      <th>4318</th>\n",
       "      <td>Laba abawala abato abanyirira.</td>\n",
       "    </tr>\n",
       "    <tr>\n",
       "      <th>4319</th>\n",
       "      <td>Otera kugula wa ebintu by'omunyumba?</td>\n",
       "    </tr>\n",
       "    <tr>\n",
       "      <th>4320</th>\n",
       "      <td>Wali obaddeko wano ng'abuuza Hajji?</td>\n",
       "    </tr>\n",
       "    <tr>\n",
       "      <th>4321</th>\n",
       "      <td>Bw'owulira ng'owuubadde ojja n'onsanga ku dduuka.</td>\n",
       "    </tr>\n",
       "  </tbody>\n",
       "</table>\n",
       "<p>71816 rows × 1 columns</p>\n",
       "</div>"
      ],
      "text/plain": [
       "                                               sentence\n",
       "0     ﻿Tugende e Makindye tulabe abayimbi n'abazanny...\n",
       "1     Emmere etali nsiike ebeera nnungi eri emibiri ...\n",
       "2     Abawala abalungi baagalwa buli muntu naye abas...\n",
       "3     Wali obaddeko awo n'owulira ng'omutwe gulinga ...\n",
       "4     Abayizi abatuula mu maaso batera okuba nga bat...\n",
       "...                                                 ...\n",
       "4317                         Weebale kwambala n'onyuma.\n",
       "4318                     Laba abawala abato abanyirira.\n",
       "4319               Otera kugula wa ebintu by'omunyumba?\n",
       "4320                Wali obaddeko wano ng'abuuza Hajji?\n",
       "4321  Bw'owulira ng'owuubadde ojja n'onsanga ku dduuka.\n",
       "\n",
       "[71816 rows x 1 columns]"
      ]
     },
     "execution_count": 57,
     "metadata": {},
     "output_type": "execute_result"
    }
   ],
   "source": [
    "new_data_on_cv"
   ]
  },
  {
   "cell_type": "code",
   "execution_count": null,
   "metadata": {},
   "outputs": [],
   "source": []
  }
 ],
 "metadata": {
  "kernelspec": {
   "display_name": "Python 3",
   "language": "python",
   "name": "python3"
  },
  "language_info": {
   "codemirror_mode": {
    "name": "ipython",
    "version": 3
   },
   "file_extension": ".py",
   "mimetype": "text/x-python",
   "name": "python",
   "nbconvert_exporter": "python",
   "pygments_lexer": "ipython3",
   "version": "3.8.2"
  }
 },
 "nbformat": 4,
 "nbformat_minor": 4
}
