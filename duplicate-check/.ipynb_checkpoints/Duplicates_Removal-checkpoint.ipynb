{
 "cells": [
  {
   "cell_type": "code",
   "execution_count": 1,
   "metadata": {},
   "outputs": [
    {
     "name": "stdout",
     "output_type": "stream",
     "text": [
      "Collecting datacompy\n",
      "  Downloading datacompy-0.7.2-py3-none-any.whl (27 kB)\n",
      "Requirement already satisfied: pandas>=0.25.0 in /Users/k-packxs/opt/anaconda3/lib/python3.8/site-packages (from datacompy) (1.1.3)\n",
      "Requirement already satisfied: numpy>=1.11.3 in /Users/k-packxs/opt/anaconda3/lib/python3.8/site-packages (from datacompy) (1.19.2)\n",
      "Requirement already satisfied: pytz>=2017.2 in /Users/k-packxs/opt/anaconda3/lib/python3.8/site-packages (from pandas>=0.25.0->datacompy) (2020.1)\n",
      "Requirement already satisfied: python-dateutil>=2.7.3 in /Users/k-packxs/opt/anaconda3/lib/python3.8/site-packages (from pandas>=0.25.0->datacompy) (2.8.1)\n",
      "Requirement already satisfied: six>=1.5 in /Users/k-packxs/opt/anaconda3/lib/python3.8/site-packages (from python-dateutil>=2.7.3->pandas>=0.25.0->datacompy) (1.15.0)\n",
      "Installing collected packages: datacompy\n",
      "Successfully installed datacompy-0.7.2\n"
     ]
    }
   ],
   "source": [
    "!pip install datacompy"
   ]
  },
  {
   "cell_type": "code",
   "execution_count": 1,
   "metadata": {},
   "outputs": [],
   "source": [
    "import datacompy, pandas as pd\n",
    "\n",
    "df1=pd.read_csv('../all-cv-data/already_on_cv.csv')\n",
    "df2 =pd.read_csv('../all-cv-data/all_sentences.csv')"
   ]
  },
  {
   "cell_type": "code",
   "execution_count": 2,
   "metadata": {},
   "outputs": [
    {
     "data": {
      "text/html": [
       "<div>\n",
       "<style scoped>\n",
       "    .dataframe tbody tr th:only-of-type {\n",
       "        vertical-align: middle;\n",
       "    }\n",
       "\n",
       "    .dataframe tbody tr th {\n",
       "        vertical-align: top;\n",
       "    }\n",
       "\n",
       "    .dataframe thead th {\n",
       "        text-align: right;\n",
       "    }\n",
       "</style>\n",
       "<table border=\"1\" class=\"dataframe\">\n",
       "  <thead>\n",
       "    <tr style=\"text-align: right;\">\n",
       "      <th></th>\n",
       "      <th>sentence</th>\n",
       "    </tr>\n",
       "  </thead>\n",
       "  <tbody>\n",
       "    <tr>\n",
       "      <th>0</th>\n",
       "      <td>Fuba nnyo okulaba ng'oddaabiriza obuliri bwo b...</td>\n",
       "    </tr>\n",
       "    <tr>\n",
       "      <th>1</th>\n",
       "      <td>Fuba okulaba nga toyambala lugoye olutali ludd...</td>\n",
       "    </tr>\n",
       "    <tr>\n",
       "      <th>2</th>\n",
       "      <td>Fuba okulaba nti buli lw'oba oyoza ebitundu eb...</td>\n",
       "    </tr>\n",
       "    <tr>\n",
       "      <th>3</th>\n",
       "      <td>Fuba okulaba nga mu kisenge kyo oteekamu obunt...</td>\n",
       "    </tr>\n",
       "    <tr>\n",
       "      <th>4</th>\n",
       "      <td>Fuba okulaba ng'omanya liri ery’ekika okwewala...</td>\n",
       "    </tr>\n",
       "    <tr>\n",
       "      <th>5</th>\n",
       "      <td>Fuba okulaba ng'omuwendo gw’abaana gw’ozaaala ...</td>\n",
       "    </tr>\n",
       "    <tr>\n",
       "      <th>6</th>\n",
       "      <td>Fuba okulaba nti, mu kunyumya okwo ne banno er...</td>\n",
       "    </tr>\n",
       "    <tr>\n",
       "      <th>7</th>\n",
       "      <td>Funa engeri ennungi gy’onooyogera naye eteraga...</td>\n",
       "    </tr>\n",
       "    <tr>\n",
       "      <th>8</th>\n",
       "      <td>Fukamira wansi oba kale tuula wansi olyoke omu...</td>\n",
       "    </tr>\n",
       "    <tr>\n",
       "      <th>9</th>\n",
       "      <td>Fumiitirizaamu eri abo abeebuzaabuza.</td>\n",
       "    </tr>\n",
       "  </tbody>\n",
       "</table>\n",
       "</div>"
      ],
      "text/plain": [
       "                                            sentence\n",
       "0  Fuba nnyo okulaba ng'oddaabiriza obuliri bwo b...\n",
       "1  Fuba okulaba nga toyambala lugoye olutali ludd...\n",
       "2  Fuba okulaba nti buli lw'oba oyoza ebitundu eb...\n",
       "3  Fuba okulaba nga mu kisenge kyo oteekamu obunt...\n",
       "4  Fuba okulaba ng'omanya liri ery’ekika okwewala...\n",
       "5  Fuba okulaba ng'omuwendo gw’abaana gw’ozaaala ...\n",
       "6  Fuba okulaba nti, mu kunyumya okwo ne banno er...\n",
       "7  Funa engeri ennungi gy’onooyogera naye eteraga...\n",
       "8  Fukamira wansi oba kale tuula wansi olyoke omu...\n",
       "9              Fumiitirizaamu eri abo abeebuzaabuza."
      ]
     },
     "execution_count": 2,
     "metadata": {},
     "output_type": "execute_result"
    }
   ],
   "source": [
    "df2.head(10)"
   ]
  },
  {
   "cell_type": "code",
   "execution_count": 3,
   "metadata": {},
   "outputs": [],
   "source": [
    "#remove duplicates from new dataset\n",
    "df2=df2.drop_duplicates()"
   ]
  },
  {
   "cell_type": "code",
   "execution_count": 4,
   "metadata": {},
   "outputs": [
    {
     "name": "stdout",
     "output_type": "stream",
     "text": [
      "DataComPy Comparison\n",
      "--------------------\n",
      "\n",
      "DataFrame Summary\n",
      "-----------------\n",
      "\n",
      "  DataFrame  Columns   Rows\n",
      "0  Original        1  44634\n",
      "1       New        1   2451\n",
      "\n",
      "Column Summary\n",
      "--------------\n",
      "\n",
      "Number of columns in common: 1\n",
      "Number of columns in Original but not in New: 0\n",
      "Number of columns in New but not in Original: 0\n",
      "\n",
      "Row Summary\n",
      "-----------\n",
      "\n",
      "Matched on: sentence\n",
      "Any duplicates on match values: Yes\n",
      "Absolute Tolerance: 0\n",
      "Relative Tolerance: 0\n",
      "Number of rows in common: 2\n",
      "Number of rows in Original but not in New: 44,632\n",
      "Number of rows in New but not in Original: 2,449\n",
      "\n",
      "Number of rows with some compared columns unequal: 0\n",
      "Number of rows with all compared columns equal: 2\n",
      "\n",
      "Column Comparison\n",
      "-----------------\n",
      "\n",
      "Number of columns compared with some values unequal: 0\n",
      "Number of columns compared with all values equal: 1\n",
      "Total number of values which compare unequal: 0\n",
      "\n",
      "Sample Rows Only in Original (First 10 Columns)\n",
      "-----------------------------------------------\n",
      "\n",
      "                                                                                     sentence\n",
      "42361                                                                   Nenziramu n'engikuba.\n",
      "39473                                                                      Amataali gaggundwa\n",
      "21556                     Abawagizi b'omupiira okwetooloola ensi basanyufu olwa sizoni empya.\n",
      "43151  Buli lw'oba ng'onaaba, fuba okulaba nti, buli awali ennyingo onaba wo n'obwegendereza.\n",
      "13856                                                     Era kijja kutaasa obudde n'ensimbi.\n",
      "21676                                    Disitulikiti erina okufaayo ku buyonjo obw'omugundu.\n",
      "21780                                          Tuyinza kukakasa tutya obulondoozi bw'abakozi?\n",
      "14082             Kyetagisa abasomesa nabayizi okutekaamu amaanyi okusobozesa ensoma ennungi.\n",
      "14992          Abakulembeze betaaga okugonjoola eddibu ery'ebbula lyemirimu mu disitulikiti .\n",
      "10991                               Ebyobulambuzi bisanga okusoomozebwa olw'ebbula ly'ensimbi\n",
      "\n",
      "Sample Rows Only in New (First 10 Columns)\n",
      "------------------------------------------\n",
      "\n",
      "                                                                                                  sentence\n",
      "45103                                                       Teyafangayo kumanya bantu ba ku ludda lwa bba.\n",
      "46124                                   Beesanga ng'ebintu bya buseere ate nga bye balina okukolako bingi.\n",
      "46193                            Ebiseera ebisinga amagezi g’aba nago gabeera mu Lulimi lwe oluzaaliranwa.\n",
      "45938                                                                  Abakulu b’amasomero g’abaana abato.\n",
      "46397                                                  Kino kiraga nti newankubadde nga waliwo okuvuganya.\n",
      "46460                                                                         Kwali kusoomooza kwa maanyi.\n",
      "44931                                             Omuntu atanaaba aba awunya olusu lwe tuyita akagwigiri..\n",
      "46007  Ago agatalina bupande gali mu mbeera etali nnungi ate nga n’abayizi basasula obusente butono ddala.\n",
      "45282                                                            Essomo lyoleka omuntu obukole bw’ekiyiiye\n",
      "45965                  Abasomesa abamu baatuukibwangako nga bagamba nti bali mu kuyamba baana kwejjukanya.\n",
      "\n",
      "\n"
     ]
    }
   ],
   "source": [
    "#abs_to and rel_tol (absolute tolerance and relative tolerance) - \n",
    "# allow you to specify a tolerance of deviation btn num values\n",
    " \n",
    "compare = datacompy.Compare(\n",
    "df1,\n",
    "df2,\n",
    "join_columns='sentence',  #You can also replace with on_index=True\n",
    "abs_tol=0, #Optional, defaults to 0\n",
    "rel_tol=0, #Optional, defaults to 0\n",
    "df1_name='Original', #Optional, defaults to 'df1'\n",
    "df2_name='New' #Optional, defaults to 'df2'\n",
    ")\n",
    "#compare.matches(ignore_extra_columns=False)\n",
    "\n",
    "print(compare.report())"
   ]
  },
  {
   "cell_type": "code",
   "execution_count": 5,
   "metadata": {},
   "outputs": [],
   "source": [
    "#Let's get the sentences which are already on CV\n",
    "df3=compare.intersect_rows"
   ]
  },
  {
   "cell_type": "code",
   "execution_count": 6,
   "metadata": {},
   "outputs": [
    {
     "data": {
      "text/html": [
       "<div>\n",
       "<style scoped>\n",
       "    .dataframe tbody tr th:only-of-type {\n",
       "        vertical-align: middle;\n",
       "    }\n",
       "\n",
       "    .dataframe tbody tr th {\n",
       "        vertical-align: top;\n",
       "    }\n",
       "\n",
       "    .dataframe thead th {\n",
       "        text-align: right;\n",
       "    }\n",
       "</style>\n",
       "<table border=\"1\" class=\"dataframe\">\n",
       "  <thead>\n",
       "    <tr style=\"text-align: right;\">\n",
       "      <th></th>\n",
       "      <th>sentence</th>\n",
       "      <th>_merge</th>\n",
       "    </tr>\n",
       "  </thead>\n",
       "  <tbody>\n",
       "    <tr>\n",
       "      <th>39058</th>\n",
       "      <td>Emiganyulwo gy’obupande bwe by’ebyennimu mu ma...</td>\n",
       "      <td>both</td>\n",
       "    </tr>\n",
       "    <tr>\n",
       "      <th>42502</th>\n",
       "      <td>Ku luno tali mu kusaaga.</td>\n",
       "      <td>both</td>\n",
       "    </tr>\n",
       "  </tbody>\n",
       "</table>\n",
       "</div>"
      ],
      "text/plain": [
       "                                                sentence _merge\n",
       "39058  Emiganyulwo gy’obupande bwe by’ebyennimu mu ma...   both\n",
       "42502                           Ku luno tali mu kusaaga.   both"
      ]
     },
     "execution_count": 6,
     "metadata": {},
     "output_type": "execute_result"
    }
   ],
   "source": [
    "# Let us print the sentences already on CV as table 3\n",
    "df3"
   ]
  },
  {
   "cell_type": "markdown",
   "metadata": {},
   "source": [
    "###### Other approaches to remove already existing sentences in table 3 from table 2 ---in case the one below fails\n",
    " Approach 1: cond = df1['sentence'].isin(df2['sentence'])\n",
    " \n",
    " Approach 2: df1.drop(df1[cond].index, inplace = True)\n",
    " \n",
    " Approach 3: df1[~df1.isin(df2)].dropna()"
   ]
  },
  {
   "cell_type": "code",
   "execution_count": 7,
   "metadata": {},
   "outputs": [],
   "source": [
    "#Let us remove rows from our new dataset sentences that are already on CV\n",
    "df4=df2[~df2.sentence.isin(df3.sentence)]"
   ]
  },
  {
   "cell_type": "code",
   "execution_count": 8,
   "metadata": {},
   "outputs": [
    {
     "data": {
      "text/html": [
       "<div>\n",
       "<style scoped>\n",
       "    .dataframe tbody tr th:only-of-type {\n",
       "        vertical-align: middle;\n",
       "    }\n",
       "\n",
       "    .dataframe tbody tr th {\n",
       "        vertical-align: top;\n",
       "    }\n",
       "\n",
       "    .dataframe thead th {\n",
       "        text-align: right;\n",
       "    }\n",
       "</style>\n",
       "<table border=\"1\" class=\"dataframe\">\n",
       "  <thead>\n",
       "    <tr style=\"text-align: right;\">\n",
       "      <th></th>\n",
       "      <th>sentence</th>\n",
       "    </tr>\n",
       "  </thead>\n",
       "  <tbody>\n",
       "    <tr>\n",
       "      <th>0</th>\n",
       "      <td>Fuba nnyo okulaba ng'oddaabiriza obuliri bwo b...</td>\n",
       "    </tr>\n",
       "    <tr>\n",
       "      <th>1</th>\n",
       "      <td>Fuba okulaba nga toyambala lugoye olutali ludd...</td>\n",
       "    </tr>\n",
       "    <tr>\n",
       "      <th>2</th>\n",
       "      <td>Fuba okulaba nti buli lw'oba oyoza ebitundu eb...</td>\n",
       "    </tr>\n",
       "    <tr>\n",
       "      <th>3</th>\n",
       "      <td>Fuba okulaba nga mu kisenge kyo oteekamu obunt...</td>\n",
       "    </tr>\n",
       "    <tr>\n",
       "      <th>4</th>\n",
       "      <td>Fuba okulaba ng'omanya liri ery’ekika okwewala...</td>\n",
       "    </tr>\n",
       "    <tr>\n",
       "      <th>...</th>\n",
       "      <td>...</td>\n",
       "    </tr>\n",
       "    <tr>\n",
       "      <th>2446</th>\n",
       "      <td>Eyali ayagala okwesimbayo baamubako empapula ze.</td>\n",
       "    </tr>\n",
       "    <tr>\n",
       "      <th>2447</th>\n",
       "      <td>Mpeera omwana oyo gwe nkusindikidde ssente zange.</td>\n",
       "    </tr>\n",
       "    <tr>\n",
       "      <th>2448</th>\n",
       "      <td>Okufumba kuzibu nnyo era kuzibuwalira nnyo aba...</td>\n",
       "    </tr>\n",
       "    <tr>\n",
       "      <th>2449</th>\n",
       "      <td>Ani ateekeddwa okulima wano ?</td>\n",
       "    </tr>\n",
       "    <tr>\n",
       "      <th>2450</th>\n",
       "      <td>Tunaalabagana olulala.</td>\n",
       "    </tr>\n",
       "  </tbody>\n",
       "</table>\n",
       "<p>2449 rows × 1 columns</p>\n",
       "</div>"
      ],
      "text/plain": [
       "                                               sentence\n",
       "0     Fuba nnyo okulaba ng'oddaabiriza obuliri bwo b...\n",
       "1     Fuba okulaba nga toyambala lugoye olutali ludd...\n",
       "2     Fuba okulaba nti buli lw'oba oyoza ebitundu eb...\n",
       "3     Fuba okulaba nga mu kisenge kyo oteekamu obunt...\n",
       "4     Fuba okulaba ng'omanya liri ery’ekika okwewala...\n",
       "...                                                 ...\n",
       "2446   Eyali ayagala okwesimbayo baamubako empapula ze.\n",
       "2447  Mpeera omwana oyo gwe nkusindikidde ssente zange.\n",
       "2448  Okufumba kuzibu nnyo era kuzibuwalira nnyo aba...\n",
       "2449                      Ani ateekeddwa okulima wano ?\n",
       "2450                             Tunaalabagana olulala.\n",
       "\n",
       "[2449 rows x 1 columns]"
      ]
     },
     "execution_count": 8,
     "metadata": {},
     "output_type": "execute_result"
    }
   ],
   "source": [
    "# New table with no sentence already on CV\n",
    "df4"
   ]
  },
  {
   "cell_type": "code",
   "execution_count": 9,
   "metadata": {},
   "outputs": [],
   "source": [
    "#Let us now export the csv for uploading to COmmon Voice.\n",
    "# Don't forget to remove the sentence --- header\n",
    "# You can also delete the all_sentences.csv file now\n",
    "df4.to_csv('lug-batch-nineteen.csv')"
   ]
  },
  {
   "cell_type": "markdown",
   "metadata": {},
   "source": [
    "###### Note: Cross check the final csv for characters like \"/\",\"()\",\"[]\",\"‚Äô\",‚Äú, *,@,#,$,%,^,\n",
    " and other symbols like é and ç. =, +,\n",
    " \n",
    " If found: \"‚Äú\"---> replace with the urly(\") and \"‚Äô\" --> replaced with an apostrophe (').\n",
    " \n",
    " The \"‚Äô\",‚Äú, are normally caused by how you view the file ---> enconding formats ---UTF\n",
    " The rest can be removed and replaced.\n",
    " \n",
    " BE mindful that sentences with commas in between in a csv file are enclosed in quotes by \n",
    " the csv. So while changing the csv to text make sure you have no quoetes on the sentences \n",
    " for example: \"How are you\" in csv ---> How are you in txt. \n",
    " "
   ]
  },
  {
   "cell_type": "code",
   "execution_count": 10,
   "metadata": {},
   "outputs": [],
   "source": [
    "# Lets append df4 to the original dataset df1\n",
    "new_data_on_cv=df1.append(df4)"
   ]
  },
  {
   "cell_type": "code",
   "execution_count": 11,
   "metadata": {},
   "outputs": [
    {
     "data": {
      "text/html": [
       "<div>\n",
       "<style scoped>\n",
       "    .dataframe tbody tr th:only-of-type {\n",
       "        vertical-align: middle;\n",
       "    }\n",
       "\n",
       "    .dataframe tbody tr th {\n",
       "        vertical-align: top;\n",
       "    }\n",
       "\n",
       "    .dataframe thead th {\n",
       "        text-align: right;\n",
       "    }\n",
       "</style>\n",
       "<table border=\"1\" class=\"dataframe\">\n",
       "  <thead>\n",
       "    <tr style=\"text-align: right;\">\n",
       "      <th></th>\n",
       "      <th>sentence</th>\n",
       "    </tr>\n",
       "  </thead>\n",
       "  <tbody>\n",
       "    <tr>\n",
       "      <th>0</th>\n",
       "      <td>﻿Tugende e Makindye tulabe abayimbi n'abazanny...</td>\n",
       "    </tr>\n",
       "    <tr>\n",
       "      <th>1</th>\n",
       "      <td>Emmere etali nsiike ebeera nnungi eri emibiri ...</td>\n",
       "    </tr>\n",
       "    <tr>\n",
       "      <th>2</th>\n",
       "      <td>Abawala abalungi baagalwa buli muntu naye abas...</td>\n",
       "    </tr>\n",
       "    <tr>\n",
       "      <th>3</th>\n",
       "      <td>Wali obaddeko awo n'owulira ng'omutwe gulinga ...</td>\n",
       "    </tr>\n",
       "    <tr>\n",
       "      <th>4</th>\n",
       "      <td>Abayizi abatuula mu maaso batera okuba nga bat...</td>\n",
       "    </tr>\n",
       "    <tr>\n",
       "      <th>...</th>\n",
       "      <td>...</td>\n",
       "    </tr>\n",
       "    <tr>\n",
       "      <th>2446</th>\n",
       "      <td>Eyali ayagala okwesimbayo baamubako empapula ze.</td>\n",
       "    </tr>\n",
       "    <tr>\n",
       "      <th>2447</th>\n",
       "      <td>Mpeera omwana oyo gwe nkusindikidde ssente zange.</td>\n",
       "    </tr>\n",
       "    <tr>\n",
       "      <th>2448</th>\n",
       "      <td>Okufumba kuzibu nnyo era kuzibuwalira nnyo aba...</td>\n",
       "    </tr>\n",
       "    <tr>\n",
       "      <th>2449</th>\n",
       "      <td>Ani ateekeddwa okulima wano ?</td>\n",
       "    </tr>\n",
       "    <tr>\n",
       "      <th>2450</th>\n",
       "      <td>Tunaalabagana olulala.</td>\n",
       "    </tr>\n",
       "  </tbody>\n",
       "</table>\n",
       "<p>47083 rows × 1 columns</p>\n",
       "</div>"
      ],
      "text/plain": [
       "                                               sentence\n",
       "0     ﻿Tugende e Makindye tulabe abayimbi n'abazanny...\n",
       "1     Emmere etali nsiike ebeera nnungi eri emibiri ...\n",
       "2     Abawala abalungi baagalwa buli muntu naye abas...\n",
       "3     Wali obaddeko awo n'owulira ng'omutwe gulinga ...\n",
       "4     Abayizi abatuula mu maaso batera okuba nga bat...\n",
       "...                                                 ...\n",
       "2446   Eyali ayagala okwesimbayo baamubako empapula ze.\n",
       "2447  Mpeera omwana oyo gwe nkusindikidde ssente zange.\n",
       "2448  Okufumba kuzibu nnyo era kuzibuwalira nnyo aba...\n",
       "2449                      Ani ateekeddwa okulima wano ?\n",
       "2450                             Tunaalabagana olulala.\n",
       "\n",
       "[47083 rows x 1 columns]"
      ]
     },
     "execution_count": 11,
     "metadata": {},
     "output_type": "execute_result"
    }
   ],
   "source": [
    "new_data_on_cv"
   ]
  },
  {
   "cell_type": "code",
   "execution_count": 12,
   "metadata": {},
   "outputs": [],
   "source": [
    "#save new dataset for sentences on cv with new name. \n",
    "new_data_on_cv.to_csv('../all-cv-data/already_on_cv1.csv')"
   ]
  },
  {
   "cell_type": "code",
   "execution_count": 13,
   "metadata": {},
   "outputs": [
    {
     "name": "stdout",
     "output_type": "stream",
     "text": [
      "file deleted\n"
     ]
    }
   ],
   "source": [
    "import os\n",
    "  \n",
    "# first check whether file exists or not\n",
    "# calling remove method to delete the csv file\n",
    "# in remove method you need to pass file name and type\n",
    "\n",
    "file = '../all-cv-data/already_on_cv.csv'\n",
    "if(os.path.exists(file) and os.path.isfile(file)):\n",
    "    os.remove(file)\n",
    "    print(\"file deleted\")\n",
    "else:\n",
    "     print(\"file not found\")"
   ]
  },
  {
   "cell_type": "code",
   "execution_count": null,
   "metadata": {},
   "outputs": [],
   "source": []
  }
 ],
 "metadata": {
  "kernelspec": {
   "display_name": "Python 3",
   "language": "python",
   "name": "python3"
  },
  "language_info": {
   "codemirror_mode": {
    "name": "ipython",
    "version": 3
   },
   "file_extension": ".py",
   "mimetype": "text/x-python",
   "name": "python",
   "nbconvert_exporter": "python",
   "pygments_lexer": "ipython3",
   "version": "3.8.2"
  }
 },
 "nbformat": 4,
 "nbformat_minor": 4
}
