{
 "cells": [
  {
   "cell_type": "code",
   "execution_count": 1,
   "metadata": {},
   "outputs": [
    {
     "name": "stdout",
     "output_type": "stream",
     "text": [
      "Collecting datacompy\n",
      "  Downloading datacompy-0.7.2-py3-none-any.whl (27 kB)\n",
      "Requirement already satisfied: pandas>=0.25.0 in /Users/k-packxs/opt/anaconda3/lib/python3.8/site-packages (from datacompy) (1.1.3)\n",
      "Requirement already satisfied: numpy>=1.11.3 in /Users/k-packxs/opt/anaconda3/lib/python3.8/site-packages (from datacompy) (1.19.2)\n",
      "Requirement already satisfied: pytz>=2017.2 in /Users/k-packxs/opt/anaconda3/lib/python3.8/site-packages (from pandas>=0.25.0->datacompy) (2020.1)\n",
      "Requirement already satisfied: python-dateutil>=2.7.3 in /Users/k-packxs/opt/anaconda3/lib/python3.8/site-packages (from pandas>=0.25.0->datacompy) (2.8.1)\n",
      "Requirement already satisfied: six>=1.5 in /Users/k-packxs/opt/anaconda3/lib/python3.8/site-packages (from python-dateutil>=2.7.3->pandas>=0.25.0->datacompy) (1.15.0)\n",
      "Installing collected packages: datacompy\n",
      "Successfully installed datacompy-0.7.2\n"
     ]
    }
   ],
   "source": [
    "!pip install datacompy"
   ]
  },
  {
   "cell_type": "code",
   "execution_count": 27,
   "metadata": {},
   "outputs": [],
   "source": [
    "import datacompy, pandas as pd\n",
    "\n",
    "df1=pd.read_csv('already_on_cv.csv')\n",
    "df2 =pd.read_csv('upload_to_cv.csv')"
   ]
  },
  {
   "cell_type": "code",
   "execution_count": 28,
   "metadata": {},
   "outputs": [
    {
     "data": {
      "text/html": [
       "<div>\n",
       "<style scoped>\n",
       "    .dataframe tbody tr th:only-of-type {\n",
       "        vertical-align: middle;\n",
       "    }\n",
       "\n",
       "    .dataframe tbody tr th {\n",
       "        vertical-align: top;\n",
       "    }\n",
       "\n",
       "    .dataframe thead th {\n",
       "        text-align: right;\n",
       "    }\n",
       "</style>\n",
       "<table border=\"1\" class=\"dataframe\">\n",
       "  <thead>\n",
       "    <tr style=\"text-align: right;\">\n",
       "      <th></th>\n",
       "      <th>sentence</th>\n",
       "    </tr>\n",
       "  </thead>\n",
       "  <tbody>\n",
       "    <tr>\n",
       "      <th>0</th>\n",
       "      <td>﻿Tugende e Makindye tulabe abayimbi n'abazanny...</td>\n",
       "    </tr>\n",
       "    <tr>\n",
       "      <th>1</th>\n",
       "      <td>Emmere etali nsiike ebeera nnungi eri emibiri ...</td>\n",
       "    </tr>\n",
       "    <tr>\n",
       "      <th>2</th>\n",
       "      <td>Abawala abalungi baagalwa buli muntu naye abas...</td>\n",
       "    </tr>\n",
       "    <tr>\n",
       "      <th>3</th>\n",
       "      <td>Wali obaddeko awo n'owulira ng'omutwe gulinga ...</td>\n",
       "    </tr>\n",
       "    <tr>\n",
       "      <th>4</th>\n",
       "      <td>Abayizi abatuula mu maaso batera okuba nga bat...</td>\n",
       "    </tr>\n",
       "  </tbody>\n",
       "</table>\n",
       "</div>"
      ],
      "text/plain": [
       "                                            sentence\n",
       "0  ﻿Tugende e Makindye tulabe abayimbi n'abazanny...\n",
       "1  Emmere etali nsiike ebeera nnungi eri emibiri ...\n",
       "2  Abawala abalungi baagalwa buli muntu naye abas...\n",
       "3  Wali obaddeko awo n'owulira ng'omutwe gulinga ...\n",
       "4  Abayizi abatuula mu maaso batera okuba nga bat..."
      ]
     },
     "execution_count": 28,
     "metadata": {},
     "output_type": "execute_result"
    }
   ],
   "source": [
    "df1.head()"
   ]
  },
  {
   "cell_type": "code",
   "execution_count": 29,
   "metadata": {},
   "outputs": [
    {
     "data": {
      "text/html": [
       "<div>\n",
       "<style scoped>\n",
       "    .dataframe tbody tr th:only-of-type {\n",
       "        vertical-align: middle;\n",
       "    }\n",
       "\n",
       "    .dataframe tbody tr th {\n",
       "        vertical-align: top;\n",
       "    }\n",
       "\n",
       "    .dataframe thead th {\n",
       "        text-align: right;\n",
       "    }\n",
       "</style>\n",
       "<table border=\"1\" class=\"dataframe\">\n",
       "  <thead>\n",
       "    <tr style=\"text-align: right;\">\n",
       "      <th></th>\n",
       "      <th>sentence</th>\n",
       "    </tr>\n",
       "  </thead>\n",
       "  <tbody>\n",
       "    <tr>\n",
       "      <th>0</th>\n",
       "      <td>Abaana abali mu ssomero lino banjawulo nti era...</td>\n",
       "    </tr>\n",
       "    <tr>\n",
       "      <th>1</th>\n",
       "      <td>Abaganda beetaba mangu n'abafuzi b'amatwale .</td>\n",
       "    </tr>\n",
       "    <tr>\n",
       "      <th>2</th>\n",
       "      <td>Abaganda baakozesebwa nnyo abafuzi b'amatwale ...</td>\n",
       "    </tr>\n",
       "    <tr>\n",
       "      <th>3</th>\n",
       "      <td>Abamisane be baaleeta okusoma kw'omu bibiina.</td>\n",
       "    </tr>\n",
       "    <tr>\n",
       "      <th>4</th>\n",
       "      <td>Abanoonyereza basooka kugenda mu ssomero ly'eb...</td>\n",
       "    </tr>\n",
       "  </tbody>\n",
       "</table>\n",
       "</div>"
      ],
      "text/plain": [
       "                                            sentence\n",
       "0  Abaana abali mu ssomero lino banjawulo nti era...\n",
       "1      Abaganda beetaba mangu n'abafuzi b'amatwale .\n",
       "2  Abaganda baakozesebwa nnyo abafuzi b'amatwale ...\n",
       "3      Abamisane be baaleeta okusoma kw'omu bibiina.\n",
       "4  Abanoonyereza basooka kugenda mu ssomero ly'eb..."
      ]
     },
     "execution_count": 29,
     "metadata": {},
     "output_type": "execute_result"
    }
   ],
   "source": [
    "df2.head()"
   ]
  },
  {
   "cell_type": "code",
   "execution_count": 41,
   "metadata": {},
   "outputs": [
    {
     "name": "stdout",
     "output_type": "stream",
     "text": [
      "DataComPy Comparison\n",
      "--------------------\n",
      "\n",
      "DataFrame Summary\n",
      "-----------------\n",
      "\n",
      "  DataFrame  Columns   Rows\n",
      "0  Original        1  37318\n",
      "1       New        1   1084\n",
      "\n",
      "Column Summary\n",
      "--------------\n",
      "\n",
      "Number of columns in common: 1\n",
      "Number of columns in Original but not in New: 0\n",
      "Number of columns in New but not in Original: 0\n",
      "\n",
      "Row Summary\n",
      "-----------\n",
      "\n",
      "Matched on: sentence\n",
      "Any duplicates on match values: Yes\n",
      "Absolute Tolerance: 0\n",
      "Relative Tolerance: 0\n",
      "Number of rows in common: 3\n",
      "Number of rows in Original but not in New: 37,315\n",
      "Number of rows in New but not in Original: 1,081\n",
      "\n",
      "Number of rows with some compared columns unequal: 0\n",
      "Number of rows with all compared columns equal: 3\n",
      "\n",
      "Column Comparison\n",
      "-----------------\n",
      "\n",
      "Number of columns compared with some values unequal: 0\n",
      "Number of columns compared with all values equal: 1\n",
      "Total number of values which compare unequal: 0\n",
      "\n",
      "Sample Rows Only in Original (First 10 Columns)\n",
      "-----------------------------------------------\n",
      "\n",
      "                                                                                            sentence\n",
      "3638                              Omuvubuka ow'ekiwago abadde atambula ng'agaziwa akubiddwa amasasi.\n",
      "3979   Okwewala okumenya emizizo omusawo bwe yakuwanga eddagala ng'afuba okkumenyera emizizo gyonna.\n",
      "5093                                                                    Omutwe mpulira gunnuma nnyo.\n",
      "3374                                             Mukyala wange bw'aba mu nsonga alumwa nnyo olubuto.\n",
      "37255                      Omusogozi bw'aba asiwa omubisi anywako ng'ayagala okuwulira obuka bwagwo.\n",
      "35556                                         Omukyala yazaala balongo emirundi ebiri egiddiringana.\n",
      "5052                                                                 Ddamu ebibuuzo bye nkubuuzizza.\n",
      "24912                           Olulimi bwe busengeke bw‚Äôobubonero obuyinza okubeera mu maloboozi.\n",
      "2243                                        Ebbugumu lingi nnyo bikkula ku mwana oyo afune ku mpewo.\n",
      "14444                             Obukulisitaayo butumbula eddembe n'obuwangazi mu bantu mu kitundu.\n",
      "\n",
      "Sample Rows Only in New (First 10 Columns)\n",
      "------------------------------------------\n",
      "\n",
      "                                                                                         sentence\n",
      "38210                                    Ogenda kuyingirira obuvunaanyizibwa obutali bwetegekere.\n",
      "37816                                                  Amaka ag'engeri eyo temuba mirembe nakamu.\n",
      "37327          Abantu ab'enjawulo bazze bakola okunoonyereza ku bupande n'engeri gye bukolebwamu.\n",
      "38253                                 Omukulembeze yakeeranga ku makya n’akuba Saagalaagalamidde.\n",
      "38068                                        Kiki kyokola ekiyinza okukufuula mukwano gw’abalala?\n",
      "37662  Okuteeka essira ku nnimi enzaaliranwa nga zijjumbirwa mwebyo byonna ebikolebwa mu ssomero.\n",
      "38338                                                              Tomanyi nti okufumba si kwota?\n",
      "38384                Yakubibwanga ku makya ddala ku ssaawa abantu we batandikira okukola emirimu.\n",
      "37583                                        Obudde okunoonyereza kwe bunaamala bujja kuba bungi.\n",
      "37956                                             Ekyo kye kyabanga ekibiina oba liyite essomero.\n",
      "\n",
      "\n"
     ]
    }
   ],
   "source": [
    "#abs_to and rel_tol (absolute tolerance and relative tolerance) - \n",
    "# allow you to specify a tolerance of deviation btn num values\n",
    " \n",
    "compare = datacompy.Compare(\n",
    "df1,\n",
    "df2,\n",
    "join_columns='sentence',  #You can also replace with on_index=True\n",
    "abs_tol=0, #Optional, defaults to 0\n",
    "rel_tol=0, #Optional, defaults to 0\n",
    "df1_name='Original', #Optional, defaults to 'df1'\n",
    "df2_name='New' #Optional, defaults to 'df2'\n",
    ")\n",
    "#compare.matches(ignore_extra_columns=False)\n",
    "\n",
    "print(compare.report())"
   ]
  },
  {
   "cell_type": "code",
   "execution_count": 51,
   "metadata": {},
   "outputs": [
    {
     "name": "stdout",
     "output_type": "stream",
     "text": [
      "                                                sentence _merge\n",
      "33288               Sirina maaso, nnyindo wadde olulimi.   both\n",
      "34322  Ekyo kijja kuyamba okukendeeza ku nsobi ezibad...   both\n",
      "36775                           Obudde bwali bwa misana.   both\n"
     ]
    }
   ],
   "source": [
    "#Let's print the common sentences\n",
    "print(compare.intersect_rows)"
   ]
  },
  {
   "cell_type": "code",
   "execution_count": 55,
   "metadata": {},
   "outputs": [],
   "source": [
    "# You can now go ahead and remove these sentences in the intersection from the new dataset"
   ]
  },
  {
   "cell_type": "code",
   "execution_count": null,
   "metadata": {},
   "outputs": [],
   "source": []
  }
 ],
 "metadata": {
  "kernelspec": {
   "display_name": "Python 3",
   "language": "python",
   "name": "python3"
  },
  "language_info": {
   "codemirror_mode": {
    "name": "ipython",
    "version": 3
   },
   "file_extension": ".py",
   "mimetype": "text/x-python",
   "name": "python",
   "nbconvert_exporter": "python",
   "pygments_lexer": "ipython3",
   "version": "3.8.2"
  }
 },
 "nbformat": 4,
 "nbformat_minor": 4
}
